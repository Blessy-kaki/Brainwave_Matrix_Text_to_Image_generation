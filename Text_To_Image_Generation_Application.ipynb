{
  "nbformat": 4,
  "nbformat_minor": 0,
  "metadata": {
    "colab": {
      "provenance": [],
      "gpuType": "T4"
    },
    "kernelspec": {
      "name": "python3",
      "display_name": "Python 3"
    },
    "language_info": {
      "name": "python"
    },
    "accelerator": "GPU"
  },
  "cells": [
    {
      "cell_type": "code",
      "execution_count": null,
      "metadata": {
        "id": "xsX8QLRwzVu9"
      },
      "outputs": [],
      "source": [
        "# Install required libraries for image generation and UI\n",
        "\n",
        "!pip install -q diffusers transformers torch accelerate gradio\n"
      ]
    },
    {
      "cell_type": "code",
      "source": [
        "from diffusers import StableDiffusionPipeline  # Import StableDiffusionPipeline from Hugging Face's diffusers library\n",
        "import torch   # Import torch (PyTorch) for GPU acceleration\n",
        "\n",
        "# Load model with fp16 if using GPU\n",
        "model = StableDiffusionPipeline.from_pretrained(\n",
        "    \"CompVis/stable-diffusion-v1-4\",   # \"CompVis/stable-diffusion-v1-4\" is the official version 1.4 of Stable Diffusion\n",
        "    torch_dtype=torch.float16,\n",
        "    revision=\"fp16\"\n",
        ")\n",
        "device = \"cuda\" if torch.cuda.is_available() else \"cpu\"  # If a CUDA-compatible GPU is available, use it, otherwise fall back to CPU\n",
        "model.to(device)\n"
      ],
      "metadata": {
        "id": "jZd6H69LzwKm"
      },
      "execution_count": null,
      "outputs": []
    },
    {
      "cell_type": "code",
      "source": [
        "# Function to generate an image from a text prompt\n",
        "def generate_image(prompt):\n",
        "    with torch.no_grad():\n",
        "        image = model(prompt).images[0]\n",
        "    return image\n"
      ],
      "metadata": {
        "id": "AafCFE7N0MNe"
      },
      "execution_count": null,
      "outputs": []
    },
    {
      "cell_type": "code",
      "source": [
        "# Create the Gradio web interface\n",
        "import gradio as gr\n",
        "\n",
        "interface = gr.Interface(\n",
        "    fn=generate_image,\n",
        "    inputs=gr.Textbox(label=\"Input Text\"),\n",
        "    outputs=gr.Image(type=\"pil\"),\n",
        "    title=\"Text-to-Image Generator\",\n",
        "    description=\"Generate AI images using Stable Diffusion!\"\n",
        ")\n",
        "\n",
        "interface.launch(share=True)"
      ],
      "metadata": {
        "id": "58HVYM710bsd"
      },
      "execution_count": null,
      "outputs": []
    }
  ]
}